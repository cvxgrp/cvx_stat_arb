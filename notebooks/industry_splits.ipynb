{
 "cells": [
  {
   "cell_type": "code",
   "execution_count": 1,
   "metadata": {},
   "outputs": [],
   "source": [
    "import numpy as np\n",
    "import pandas as pd\n",
    "import cvxpy as cp\n",
    "import matplotlib.pyplot as plt\n",
    "from tqdm import trange\n",
    "import multiprocessing as mp\n",
    "import seaborn as sns\n",
    "\n",
    "from cvx.stat_arb.ccp import *\n",
    "from cvx.stat_arb.utils import *\n",
    "from cvx.stat_arb.backtest import *\n",
    "\n",
    "sns.set()\n",
    "\n",
    "%load_ext autoreload\n",
    "%autoreload 2"
   ]
  },
  {
   "cell_type": "code",
   "execution_count": 2,
   "metadata": {},
   "outputs": [],
   "source": [
    "naics_to_sector = {\n",
    "    '11': 'Agriculture, Forestry, Fishing and Hunting',\n",
    "    '21': 'Mining, Quarrying, and Oil and Gas Extraction',\n",
    "    '22': 'Utilities', \n",
    "    '23': 'Construction',\n",
    "    '31': 'Manufacturing',\n",
    "    '32': 'Manufacturing',\n",
    "    '33': 'Manufacturing',\n",
    "    '42': 'Wholesale Trade',\n",
    "    '44': 'Retail Trade',\n",
    "    '45': 'Retail Trade',\n",
    "    '48': 'Transportation and Warehousing',\n",
    "    '49': 'Transportation and Warehousing',\n",
    "    '51': 'Information',\n",
    "    '52': 'Finance and Insurance',\n",
    "    '53': 'Real Estate and Rental and Leasing',\n",
    "    '54': 'Professional, Scientific, and Technical Services',\n",
    "    '55': 'Management of Companies and Enterprises',\n",
    "    '56': 'Administrative and Support and Waste Management and Remediation Services',\n",
    "    '61': 'Educational Services',\n",
    "    '62': 'Health Care and Social Assistance',\n",
    "    '71': 'Arts, Entertainment, and Recreation',\n",
    "    '72': 'Accommodation and Food Services',\n",
    "    '81': 'Other Services (except Public Administration)',\n",
    "    '92': 'Public Administration'\n",
    "}"
   ]
  },
  {
   "cell_type": "code",
   "execution_count": 3,
   "metadata": {},
   "outputs": [
    {
     "name": "stderr",
     "output_type": "stream",
     "text": [
      "/var/folders/mr/mp0qg4bx6sj56pg6fs3s65kc0000gr/T/ipykernel_5148/2449403297.py:1: DtypeWarning: Columns (7) have mixed types. Specify dtype option on import or set low_memory=False.\n",
      "  data = pd.read_csv(\"../data/asset_data_2010to2023_full.csv\")\n"
     ]
    }
   ],
   "source": [
    "data = pd.read_csv(\"../data/asset_data_2010to2023_full.csv\")\n",
    "prices = pd.read_csv(\"../data/prices_500_cleaned.csv\", index_col=0, header=0, parse_dates=True).dropna(axis=1, how='any')\n",
    "data = data[data['PERMCO'].isin(prices.columns.astype(int))]"
   ]
  },
  {
   "cell_type": "code",
   "execution_count": 4,
   "metadata": {},
   "outputs": [],
   "source": [
    "NAICS = pd.pivot_table(data, values='NAICS', index='date', columns='PERMCO',\\\n",
    "     fill_value=None)\n",
    "NAICS = NAICS.fillna(method='ffill')\n",
    "NAICS = NAICS.fillna(method='bfill')\n",
    "NAICS = NAICS.applymap(lambda x: str(x)[:2]).astype(int)\n",
    "\n",
    "# Get dict of sectors\n",
    "asset_to_sector = {}\n",
    "sector_to_asset = {}\n",
    "assets_visited = []\n",
    "for asset in NAICS.columns:\n",
    "    if asset in assets_visited:\n",
    "        print(\"fdsj\")\n",
    "    assets_visited.append(asset)\n",
    "    if asset in prices.columns.astype(int): # TODO: They have different columns...\n",
    "        sectors_temp = []\n",
    "        for n in NAICS[asset].unique():\n",
    "            try:\n",
    "                sector = naics_to_sector[str(n)]\n",
    "\n",
    "                if sector not in sector_to_asset:\n",
    "                    sector_to_asset[sector] = [asset]\n",
    "                else:\n",
    "                    if asset not in sector_to_asset[sector]:\n",
    "                        sector_to_asset[sector].append(asset)\n",
    "                sectors_temp.append(sector)\n",
    "\n",
    "            except KeyError:\n",
    "                print(\"Sector \" + str(n) + \" does not exist...\")\n",
    "        asset_to_sector[asset] = sectors_temp"
   ]
  },
  {
   "cell_type": "code",
   "execution_count": 5,
   "metadata": {},
   "outputs": [],
   "source": [
    "# Sace sector_to_asset and asset_to_sector to file\n",
    "import pickle\n",
    "with open('../data/sector_to_asset.pkl', 'wb') as f:\n",
    "    pickle.dump(sector_to_asset, f)\n",
    "with open('../data/asset_to_sector.pkl', 'wb') as f:\n",
    "    pickle.dump(asset_to_sector, f)"
   ]
  },
  {
   "cell_type": "code",
   "execution_count": 6,
   "metadata": {},
   "outputs": [
    {
     "name": "stdout",
     "output_type": "stream",
     "text": [
      "\n",
      " Manufacturing\n",
      "203\n",
      "\n",
      " Management of Companies and Enterprises\n",
      "17\n",
      "\n",
      " Finance and Insurance\n",
      "96\n",
      "\n",
      " Professional, Scientific, and Technical Services\n",
      "26\n",
      "\n",
      " Transportation and Warehousing\n",
      "30\n",
      "\n",
      " Retail Trade\n",
      "42\n",
      "\n",
      " Real Estate and Rental and Leasing\n",
      "32\n",
      "\n",
      " Wholesale Trade\n",
      "34\n",
      "\n",
      " Mining, Quarrying, and Oil and Gas Extraction\n",
      "36\n",
      "\n",
      " Information\n",
      "61\n",
      "\n",
      " Administrative and Support and Waste Management and Remediation Services\n",
      "20\n",
      "\n",
      " Accommodation and Food Services\n",
      "11\n",
      "\n",
      " Arts, Entertainment, and Recreation\n",
      "7\n",
      "\n",
      " Utilities\n",
      "28\n",
      "\n",
      " Construction\n",
      "4\n",
      "\n",
      " Agriculture, Forestry, Fishing and Hunting\n",
      "1\n",
      "\n",
      " Health Care and Social Assistance\n",
      "3\n"
     ]
    }
   ],
   "source": [
    "for sect, assets in sector_to_asset.items():\n",
    "    print(\"\\n\", sect)\n",
    "    print(len(assets))"
   ]
  }
 ],
 "metadata": {
  "kernelspec": {
   "display_name": "Python 3.9.12 ('.venv': poetry)",
   "language": "python",
   "name": "python3"
  },
  "language_info": {
   "codemirror_mode": {
    "name": "ipython",
    "version": 3
   },
   "file_extension": ".py",
   "mimetype": "text/x-python",
   "name": "python",
   "nbconvert_exporter": "python",
   "pygments_lexer": "ipython3",
   "version": "3.9.12"
  },
  "orig_nbformat": 4,
  "vscode": {
   "interpreter": {
    "hash": "955dc3242a56ee04b9fc6e45f0f153403aaaa66ff5d0576920e36fc6efca79b7"
   }
  }
 },
 "nbformat": 4,
 "nbformat_minor": 2
}
