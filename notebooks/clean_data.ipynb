{
 "cells": [
  {
   "cell_type": "code",
   "execution_count": 1,
   "metadata": {},
   "outputs": [],
   "source": [
    "import numpy as np\n",
    "import pandas as pd\n",
    "import cvxpy as cp\n",
    "import matplotlib.pyplot as plt\n",
    "import tqdm\n",
    "from tqdm import tqdm\n",
    "import multiprocessing as mp\n",
    "import seaborn as sns\n",
    "from tqdm import trange\n",
    "\n",
    "\n",
    "\n",
    "sns.set()\n",
    "\n",
    "%load_ext autoreload\n",
    "%autoreload 2"
   ]
  },
  {
   "cell_type": "code",
   "execution_count": 2,
   "metadata": {},
   "outputs": [],
   "source": [
    "# data = pd.read_csv(\"../data/asset_data_2010to2023_full.csv\")\n",
    "data = pd.read_csv(\"../data/1970_unclean.csv\")"
   ]
  },
  {
   "cell_type": "code",
   "execution_count": 3,
   "metadata": {},
   "outputs": [],
   "source": [
    "prices = pd.pivot_table(data, values='PRC', index='date', columns='PERMCO', fill_value=None)#.loc['2015-01-01':]\n",
    "shares_outstanding = pd.pivot_table(data, values='SHROUT', index='date', columns='PERMCO', fill_value=None)#.loc['2015-01-01':]"
   ]
  },
  {
   "cell_type": "code",
   "execution_count": 5,
   "metadata": {},
   "outputs": [
    {
     "data": {
      "text/plain": [
       "(2526, 7145)"
      ]
     },
     "execution_count": 5,
     "metadata": {},
     "output_type": "execute_result"
    }
   ],
   "source": [
    "prices.shape"
   ]
  },
  {
   "cell_type": "code",
   "execution_count": 6,
   "metadata": {},
   "outputs": [],
   "source": [
    "market_cap = prices.iloc[0]*shares_outstanding.iloc[0]\n",
    "\n",
    "# Get index of 500 largest market cap stocks\n",
    "top_500 = market_cap.sort_values(ascending=False).iloc[:500].index"
   ]
  },
  {
   "cell_type": "code",
   "execution_count": 7,
   "metadata": {},
   "outputs": [],
   "source": [
    "prices_500 = prices[top_500]\n",
    "returns_500 = prices_500.pct_change()\n",
    "# Cut returns at +/- 15 %\n",
    "returns_500 = returns_500.clip(-0.15, 0.15)\n",
    "# BAckpropogate prices from returns starting at last day\n",
    "return_cum_prod = returns_500.fillna(0).add(1).cumprod()\n",
    "prices_500_cleaned = return_cum_prod.multiply(prices_500.iloc[0])\n",
    "\n",
    "prices_500_cleaned = prices_500_cleaned.where(prices_500.notna())"
   ]
  },
  {
   "cell_type": "code",
   "execution_count": 25,
   "metadata": {},
   "outputs": [],
   "source": [
    "prices_500_cleaned.to_csv(\"../data/prices_1970_cleaned.csv\")"
   ]
  },
  {
   "cell_type": "code",
   "execution_count": 24,
   "metadata": {},
   "outputs": [
    {
     "data": {
      "text/plain": [
       "355226"
      ]
     },
     "execution_count": 24,
     "metadata": {},
     "output_type": "execute_result"
    }
   ],
   "source": [
    "diff = prices_500 - prices_500_cleaned\n",
    "(diff.abs() > 1e-10).sum().sum()"
   ]
  },
  {
   "cell_type": "code",
   "execution_count": 108,
   "metadata": {},
   "outputs": [
    {
     "data": {
      "text/plain": [
       "0.0016256206554121151"
      ]
     },
     "execution_count": 108,
     "metadata": {},
     "output_type": "execute_result"
    }
   ],
   "source": [
    "(prices_500.pct_change().abs() > 0.15).sum().sum() / (prices_500.shape[0]*prices_500.shape[1])"
   ]
  },
  {
   "cell_type": "code",
   "execution_count": 107,
   "metadata": {},
   "outputs": [
    {
     "data": {
      "text/plain": [
       "1007000"
      ]
     },
     "execution_count": 107,
     "metadata": {},
     "output_type": "execute_result"
    }
   ],
   "source": []
  }
 ],
 "metadata": {
  "kernelspec": {
   "display_name": "Python 3.9.12 ('.venv': poetry)",
   "language": "python",
   "name": "python3"
  },
  "language_info": {
   "codemirror_mode": {
    "name": "ipython",
    "version": 3
   },
   "file_extension": ".py",
   "mimetype": "text/x-python",
   "name": "python",
   "nbconvert_exporter": "python",
   "pygments_lexer": "ipython3",
   "version": "3.9.12"
  },
  "orig_nbformat": 4,
  "vscode": {
   "interpreter": {
    "hash": "955dc3242a56ee04b9fc6e45f0f153403aaaa66ff5d0576920e36fc6efca79b7"
   }
  }
 },
 "nbformat": 4,
 "nbformat_minor": 2
}
